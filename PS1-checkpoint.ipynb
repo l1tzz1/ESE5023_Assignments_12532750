{
 "cells": [
  {
   "cell_type": "code",
   "execution_count": 1,
   "id": "e925aa9f-ad98-4a1f-8c7b-0d792e54464a",
   "metadata": {},
   "outputs": [
    {
     "name": "stdin",
     "output_type": "stream",
     "text": [
      "please type a number to a: 12\n",
      "please type a number to b: 1\n",
      "please type a number to c: 1\n"
     ]
    },
    {
     "name": "stdout",
     "output_type": "stream",
     "text": [
      "3.0\n"
     ]
    }
   ],
   "source": [
    "#1 flowchat\n",
    "a = float(input(\"please type a number to a:\"))\n",
    "b = float(input(\"please type a number to b:\"))\n",
    "c = float(input(\"please type a number to c:\"))\n",
    "if a > b:\n",
    "    if b > c:\n",
    "        x = a\n",
    "        y = b\n",
    "        z = c\n",
    "    else:\n",
    "        if a > c:\n",
    "            x = a\n",
    "            y = c\n",
    "            z = b\n",
    "        else:\n",
    "            x = c\n",
    "            y = a\n",
    "            z = b\n",
    "else:\n",
    "    if b > c:\n",
    "        if a > c:\n",
    "            x = b\n",
    "            y = a\n",
    "            z = c\n",
    "        else:\n",
    "            x = b\n",
    "            y = c\n",
    "            z = a\n",
    "    else:\n",
    "        x = c\n",
    "        y = b\n",
    "        z = a\n",
    "s = x + y - 10 * z\n",
    "print(s)\n"
   ]
  },
  {
   "cell_type": "code",
   "execution_count": null,
   "id": "9542ae49-9335-4b41-9219-87b1435b6bdd",
   "metadata": {},
   "outputs": [],
   "source": [
    "# 2Continuous celing function\n",
    "def F(x):\n",
    "    if x == 1:\n",
    "        return 1\n",
    "    if x % 3 == 0:\n",
    "        #x的取整函数\n",
    "        then_x = x // 3\n",
    "    else:\n",
    "        then_x = x // 3 + 1 \n",
    "    return F(then_x) + 2 * x\n",
    "N = 10 \n",
    "for x in range(1, N + 1):\n",
    "    print(\"F(\" + str(x) + \") = \" + str(F(x)))"
   ]
  },
  {
   "cell_type": "code",
   "execution_count": null,
   "id": "96137830-8a7e-4ad7-86fb-a4d3effa6f17",
   "metadata": {},
   "outputs": [],
   "source": [
    "#Dice rolling  3.1\n",
    "#n为色子数 ttn为数总和 \n",
    "def Find_number_of_ways(n, ttn):   \n",
    "    ways = 0 \n",
    "    for Dice1 in range(1, 7):  \n",
    "        for Dice2 in range(1, 7):  \n",
    "            for Dice3 in range(1, 7):  \n",
    "                for Dice4 in range(1, 7):  \n",
    "                    for Dice5 in range(1, 7):  \n",
    "                        for Dice6 in range(1, 7):  \n",
    "                            for Dice7 in range(1, 7):  \n",
    "                                for Dice8 in range(1, 7):  \n",
    "                                    for Dice9 in range(1, 7):  \n",
    "                                        for Dice10 in range(1, 7): \n",
    "                                            \n",
    "                                            total_sum = Dice1 + Dice2 + Dice3 + Dice4+ Dice5 + Dice6 + Dice7 +Dice8+ Dice9 + Dice10\n",
    "                                            if total_sum == ttn:  \n",
    "                                                \n",
    "                                                ways = ways + 1  \n",
    "                                                \n",
    "\n",
    "    return ways  \n",
    "n = 10  \n",
    "ttn = 60  \n",
    "result = Find_number_of_ways(n, ttn)\n",
    "print(\"用 \" + str(n) + \" 个骰子得到和 \" + str(ttn) + \" 的方法数是: \" + str(result))"
   ]
  },
  {
   "cell_type": "code",
   "execution_count": null,
   "id": "2073bbf7-5a8e-4904-82e9-7a2b98e6bd68",
   "metadata": {},
   "outputs": [],
   "source": [
    "#3.2\n",
    "def Find_number_of_ways(n, ttn):   \n",
    "    ways = 0 \n",
    "    for Dice1 in range(1, 7):  \n",
    "        for Dice2 in range(1, 7):  \n",
    "            for Dice3 in range(1, 7):  \n",
    "                for Dice4 in range(1, 7):  \n",
    "                    for Dice5 in range(1, 7):  \n",
    "                        for Dice6 in range(1, 7):  \n",
    "                            for Dice7 in range(1, 7):  \n",
    "                                for Dice8 in range(1, 7):  \n",
    "                                    for Dice9 in range(1, 7):  \n",
    "                                        for Dice10 in range(1, 7): \n",
    "                                            \n",
    "                                            total_sum = Dice1 + Dice2 + Dice3 + Dice4+ Dice5 + Dice6 + Dice7 +Dice8+ Dice9 + Dice10\n",
    "                                            if total_sum == ttn:  \n",
    "                                                \n",
    "                                                ways = ways + 1  \n",
    "                                                \n",
    "\n",
    "    return ways  \n",
    "n = 10  \n",
    "every_way=[]\n",
    "for ttn in range(10,61):\n",
    "    ways=Find_number_of_ways(n, ttn)\n",
    "    every_way.append(ways)\n",
    "maxway=max(every_way)\n",
    "print(\"最多的路径数为\"+str(maxway))\n"
   ]
  },
  {
   "cell_type": "code",
   "execution_count": null,
   "id": "20499f6f-23c2-4d91-9f9b-f37eaeba84a2",
   "metadata": {},
   "outputs": [],
   "source": [
    "#4.1Dynamic programming\n",
    "import random \n",
    "def Random_integer(N):\n",
    "    array = []    \n",
    "    for x in range(N):  \n",
    "        random_number = random.randint(0, 10) \n",
    "        array.append(random_number) \n",
    "    \n",
    "    return array\n",
    "N = 10  \n",
    "result = Random_integer(N)\n",
    "print(\"生成的随机整数数组是:\"+ str(result))"
   ]
  },
  {
   "cell_type": "code",
   "execution_count": null,
   "id": "bd6c8584-3ca0-4d71-bdaf-ac95b5c5746f",
   "metadata": {},
   "outputs": [],
   "source": [
    "#4.2Dynamic programming\n",
    "def Random_integer(N):\n",
    "    array = []    \n",
    "    for x in range(N):  \n",
    "        random_number = random.randint(0, 10) \n",
    "        array.append(random_number) \n",
    "    \n",
    "    return array      \n",
    "def Sum_averages(arr):\n",
    "    total_sum_of_averages = 0  \n",
    "    n = len(arr) \n",
    "    for subset_size in range(0, n + 1):  \n",
    "        for i in range(n - subset_size + 1):\n",
    "            for j in range(i + 1, n):\n",
    "                subset = arr[i: j]\n",
    "                subset_sum = sum(subset)  \n",
    "                subset_avg = subset_sum / len(subset) \n",
    "                total_sum_of_averages += subset_avg \n",
    "    \n",
    "    return total_sum_of_averages\n",
    "\n",
    "N = 10  \n",
    "result = Random_integer(N)  \n",
    "print(\"生成的随机整数数组是:\"+str(result))\n",
    "all = Sum_averages(result)\n",
    "print(\"所有子集的平均数之和是: \"+str(all))\n"
   ]
  },
  {
   "cell_type": "code",
   "execution_count": 7,
   "id": "cf231204-55e9-4567-ba6e-73b5c03ad788",
   "metadata": {},
   "outputs": [
    {
     "name": "stdout",
     "output_type": "stream",
     "text": [
      "[[1 0 1 1 0]\n",
      " [1 1 0 1 0]\n",
      " [1 0 1 0 0]\n",
      " [1 1 0 1 0]\n",
      " [1 0 0 1 1]\n",
      " [0 1 1 1 1]]\n"
     ]
    }
   ],
   "source": [
    "#5.1\n",
    "import numpy as np\n",
    "N = 6\n",
    "M = 5\n",
    "matrix = np.random.randint(0, 2, size=(N, M))\n",
    "matrix[0, 0] = 1\n",
    "matrix[N-1, M-1] = 1\n",
    "print(matrix)"
   ]
  },
  {
   "cell_type": "code",
   "execution_count": 5,
   "id": "e2f97d45-088e-425a-b783-91fee7925c6f",
   "metadata": {},
   "outputs": [
    {
     "name": "stdout",
     "output_type": "stream",
     "text": [
      "[[1 2 3 0]\n",
      " [2 0 0 1]\n",
      " [0 0 0 0]\n",
      " [1 0 0 1]]\n",
      "从左上角到右下角的路径数为1\n"
     ]
    }
   ],
   "source": [
    "#5.2\n",
    "import numpy as np\n",
    "N = 4\n",
    "M = 4\n",
    "matrix = np.random.randint(0, 2, size=(N, M))\n",
    "matrix[0, 0] = 1\n",
    "matrix[N-1, M-1] = 1\n",
    "def Count_path(matrix):\n",
    "    matrix[0, 0] = 1\n",
    "    for i in range(N):\n",
    "        for j in range(M):\n",
    "            if matrix[i, j] == 0:  \n",
    "                continue\n",
    "            else:\n",
    "                if i > 0:  \n",
    "                    matrix[i, j] = matrix[i, j]+ matrix[i - 1, j]\n",
    "                if j > 0:  \n",
    "                    matrix[i, j]= matrix[i, j - 1]+ matrix[i, j]\n",
    "    return matrix[N-1, M-1]\n",
    "result = Count_path(matrix)\n",
    "print(matrix)\n",
    "print(\"从左上角到右下角的路径数为\"+ str(result))"
   ]
  },
  {
   "cell_type": "code",
   "execution_count": null,
   "id": "5730f7c3-84c8-4e4d-82e5-d7841823c1f0",
   "metadata": {},
   "outputs": [],
   "source": [
    "#ps:韩志坚，李文卓在第二三题为我寻找函数并帮我改正"
   ]
  }
 ],
 "metadata": {
  "kernelspec": {
   "display_name": "Python [conda env:base] *",
   "language": "python",
   "name": "conda-base-py"
  },
  "language_info": {
   "codemirror_mode": {
    "name": "ipython",
    "version": 3
   },
   "file_extension": ".py",
   "mimetype": "text/x-python",
   "name": "python",
   "nbconvert_exporter": "python",
   "pygments_lexer": "ipython3",
   "version": "3.13.5"
  }
 },
 "nbformat": 4,
 "nbformat_minor": 5
}
